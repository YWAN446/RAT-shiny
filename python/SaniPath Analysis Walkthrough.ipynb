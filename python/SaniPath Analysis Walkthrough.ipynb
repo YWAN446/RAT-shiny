{
 "cells": [
  {
   "cell_type": "markdown",
   "metadata": {},
   "source": [
    "# Import the libraries and data"
   ]
  },
  {
   "cell_type": "code",
   "execution_count": 2,
   "metadata": {
    "collapsed": true
   },
   "outputs": [],
   "source": [
    "import pandas as pd\n",
    "import SaniPath as sp\n",
    "\n",
    "hh = pd.read_csv('rsrc/HOUSEHOLD_EXAMPLE.csv')\n",
    "cc = pd.read_csv('rsrc/COMMUNITY_EXAMPLE.csv')\n",
    "sc = pd.read_csv('rsrc/SCHOOL_EXAMPLE.csv')\n",
    "col = pd.read_csv('rsrc/SAMPLE_EXAMPLE.csv')\n",
    "lab = pd.read_csv('rsrc/LAB_EXAMPLE.csv')"
   ]
  },
  {
   "cell_type": "markdown",
   "metadata": {},
   "source": [
    "# Make sure all R libraries are installed"
   ]
  },
  {
   "cell_type": "markdown",
   "metadata": {},
   "source": [
    "Conda should handle most of the dependencies, but this can confirm."
   ]
  },
  {
   "cell_type": "code",
   "execution_count": 3,
   "metadata": {},
   "outputs": [
    {
     "name": "stdout",
     "output_type": "stream",
     "text": [
      "Everything is installed!\n"
     ]
    },
    {
     "data": {
      "text/plain": [
       "<SaniPath.RSetup instance at 0x7f351afe8170>"
      ]
     },
     "execution_count": 3,
     "metadata": {},
     "output_type": "execute_result"
    }
   ],
   "source": [
    "sp.RSetup('./r-requirements.txt') # wherever this r-requirements.txt file sits"
   ]
  },
  {
   "cell_type": "markdown",
   "metadata": {},
   "source": [
    "# Setup the analysis class"
   ]
  },
  {
   "cell_type": "markdown",
   "metadata": {},
   "source": [
    "Setup the analysis class instance with several things we need to know.  Not all are necessary all the time, but conducting analysis and generating a report, all are required. Otherwise, default values will be filled in. "
   ]
  },
  {
   "cell_type": "code",
   "execution_count": 99,
   "metadata": {},
   "outputs": [
    {
     "name": "stderr",
     "output_type": "stream",
     "text": [
      "/home/aw/anaconda3/envs/sanipath-dev/lib/python2.7/site-packages/rpy2/rinterface/__init__.py:186: RRuntimeWarning: \n",
      "Attaching package: ‘purrr’\n",
      "\n",
      "\n",
      "  warnings.warn(x, RRuntimeWarning)\n",
      "/home/aw/anaconda3/envs/sanipath-dev/lib/python2.7/site-packages/rpy2/rinterface/__init__.py:186: RRuntimeWarning: The following objects are masked from ‘package:foreach’:\n",
      "\n",
      "    accumulate, when\n",
      "\n",
      "\n",
      "  warnings.warn(x, RRuntimeWarning)\n",
      "/home/aw/anaconda3/envs/sanipath-dev/lib/python2.7/site-packages/rpy2/rinterface/__init__.py:186: RRuntimeWarning: The following object is masked from ‘package:magrittr’:\n",
      "\n",
      "    set_names\n",
      "\n",
      "\n",
      "  warnings.warn(x, RRuntimeWarning)\n",
      "/home/aw/anaconda3/envs/sanipath-dev/lib/python2.7/site-packages/rpy2/rinterface/__init__.py:186: RRuntimeWarning: The following object is masked from ‘package:plyr’:\n",
      "\n",
      "    compact\n",
      "\n",
      "\n",
      "  warnings.warn(x, RRuntimeWarning)\n"
     ]
    }
   ],
   "source": [
    "reload(sp)\n",
    "analysis = sp.Analysis(\n",
    "                 r_dir='./',\n",
    "                 plot_dir = './plots/',\n",
    "                 analysis_type = 'school',\n",
    "                 # used for analysis ----\n",
    "                 pathway_codes = {'p' : 2,\n",
    "                                    'dw' : 3,\n",
    "                                    'o' : 4,\n",
    "                                    'l' : 7},\n",
    "                 pathway_labels = {'p' : 'Produce',\n",
    "                                 'dw' : 'Municipal and Drain Water',\n",
    "                                 'o' : 'Ocean Water',\n",
    "                                 'l' : 'Public Latrine'},\n",
    "                 neighborhood_mapping = {'Jamaica Plain' : 1,\n",
    "                                         'Brigthon' : 2},\n",
    "                 # report specific arguments ----\n",
    "                 city_name = 'Atlanta, GA',\n",
    "                 lab_name = 'Bill Nye, Inc',\n",
    "                 start_date = '2017-01-01',\n",
    "                 lab_MF = False,\n",
    "                 language = \"English\",\n",
    "                 freq_thresh= 50\n",
    "                      )\n"
   ]
  },
  {
   "cell_type": "markdown",
   "metadata": {},
   "source": [
    "Add data to the analysis object using the add_data() method.  Acceptable options match the forms we collect.  household, school, community, sample, and lab."
   ]
  },
  {
   "cell_type": "code",
   "execution_count": 100,
   "metadata": {},
   "outputs": [],
   "source": [
    "analysis.add_data('household', hh)\n",
    "analysis.add_data('school', sc)\n",
    "analysis.add_data('community', cc)\n",
    "analysis.add_data('sample', col)\n",
    "analysis.add_data('lab', lab)\n",
    "\n"
   ]
  },
  {
   "cell_type": "markdown",
   "metadata": {},
   "source": [
    "# Frequency calculations (Pie Charts)"
   ]
  },
  {
   "cell_type": "markdown",
   "metadata": {},
   "source": [
    "Use `compute_frequencies()` to calculate.  This depends on what `self.analysis_type` is set to at `__init__()`.  To check, look at analysis.analysis_type"
   ]
  },
  {
   "cell_type": "code",
   "execution_count": 67,
   "metadata": {},
   "outputs": [
    {
     "name": "stdout",
     "output_type": "stream",
     "text": [
      "combined\n"
     ]
    }
   ],
   "source": [
    "print(analysis.analysis_type)\n",
    "analysis.analysis_type = 'school'"
   ]
  },
  {
   "cell_type": "code",
   "execution_count": 68,
   "metadata": {},
   "outputs": [],
   "source": [
    "pie_chart_data = analysis.compute_frequencies()"
   ]
  },
  {
   "cell_type": "markdown",
   "metadata": {},
   "source": [
    "Convert to and from R and Python using R's JSON reader.  It's much easier than trying to convert other ways.  We will need to store the results for caching purposes"
   ]
  },
  {
   "cell_type": "code",
   "execution_count": 69,
   "metadata": {},
   "outputs": [
    {
     "name": "stdout",
     "output_type": "stream",
     "text": [
      "[1] \"[\\n {\\n \\\"sample\\\": 4,\\n\\\"age\\\": \\\"Children\\\",\\n\\\"neighborhood\\\": \\\"Neighborhood 1\\\",\\n\\\"data\\\": [      1,      1,      1,      1,      1,      1,      1,      1,      1,      1,      1,      1,      1,      1,      1,      1,      2,      2,      2,      2,      3,      3,      3,      3,      3,      3,      3,      3,      3,      3,      3,      3,      3,      3,      3,      3,      3,      3,      3,      3,      3,      3,      3,      3,      3,      3,      3,      3,      3,      3,      3,      3,      3,      3,      4,      4,      4,      4,      4,      4,      5,      5,      5,      5,      5,      5,      5,      5,      5,      5,      5,      5,      5,      5,      5 ],\\n\\\"plot_name\\\": \\\"Neighborhood 1, 4\\\\nChildren (N= 75)\\\",\\n\\\"s\\\": \\\"o\\\",\\n\\\"neighb\\\": 1,\\n\\\"pop\\\": \\\"c\\\",\\n\\\"analysis_type\\\": \\\"school\\\",\\n\\\"fn\\\": \\\"./plots/pie_1_o_c_school.png\\\" \\n},\\n{\\n \\\"sample\\\": 4,\\n\\\"age\\\": \\\"Adults\\\",\\n\\\"neighborhood\\\": \\\"Neighborhood 1\\\",\\n\\\"data\\\": [      1,      1,      1,      1,      1,      1,      1,      1,      1,      1,      1,      1,      1,      1,      1,      1,      1,      1,      1,      1,      2,      2,      2,      2,      2,      2,      2,      2,      2,      2,      2,      2,      2,      2,      2,      2,      2,      2,      2,      2,      2,      2,      2,      2,      2,      2,      3,      3,      3,      3,      3,      3,      3,      3,      3,      3,      3,      3,      3,      3,      4,      4,      4,      4,      4,      4,      4,      4,      4,      4,      5,      5,      5,      5,      5 ],\\n\\\"plot_name\\\": \\\"Neighborhood 1, 4\\\\nAdults (N= 75)\\\",\\n\\\"s\\\": \\\"o\\\",\\n\\\"neighb\\\": 1,\\n\\\"pop\\\": \\\"a\\\",\\n\\\"analysis_type\\\": \\\"school\\\",\\n\\\"fn\\\": \\\"./plots/pie_1_o_a_school.png\\\" \\n},\\n{\\n \\\"sample\\\": 2,\\n\\\"age\\\": \\\"Children\\\",\\n\\\"neighborhood\\\": \\\"Neighborhood 1\\\",\\n\\\"data\\\": [      1,      1,      1,      1,      1,      1,      1,      1,      1,      1,      1,      1,      1,      1,      2,      2,      2,      2,      2,      2,      2,      2,      2,      2,      2,      2,      2,      2,      2,      2,      2,      2,      2,      2,      2,      2,      2,      2,      2,      2,      2,      2,      2,      2,      2,      2,      2,      2,      2,      2,      2,      2,      2,      2,      2,      2,      2,      2,      2,      2,      2,      2,      2,      2,      3,      3,      3,      3,      3,      3,      3,      3,      3,      3,      3,      3,      3,      3,      3,      3,      3,      3,      3,      3,      3,      3,      3,      3,      3,      3,      3,      3,      3,      3,      3,      3,      3,      3,      3,      3,      3,      3,      3,      3,      3,      3,      3,      3,      3,      3,      3,      3,      4,      4,      4,      4,      4,      4,      4,      4,      4,      4,      4,      4,      4,      4,      4,      4,      4,      4,      5,      5,      5,      5,      5,      5,      5,      5,      5,      5,      5,      5,      5,      5,      5,      5,      5,      5,      5,      5 ],\\n\\\"plot_name\\\": \\\"Neighborhood 1, 2\\\\nChildren (N= 150)\\\",\\n\\\"s\\\": \\\"p\\\",\\n\\\"neighb\\\": 1,\\n\\\"pop\\\": \\\"c\\\",\\n\\\"analysis_type\\\": \\\"school\\\",\\n\\\"fn\\\": \\\"./plots/pie_1_p_c_school.png\\\" \\n},\\n{\\n \\\"sample\\\": 2,\\n\\\"age\\\": \\\"Adults\\\",\\n\\\"neighborhood\\\": \\\"Neighborhood 1\\\",\\n\\\"data\\\": [      1,      1,      1,      1,      1,      1,      1,      1,      2,      2,      2,      2,      2,      2,      2,      2,      2,      2,      2,      2,      3,      3,      3,      3,      3,      3,      3,      3,      3,      3,      3,      3,      3,      3,      3,      3,      3,      3,      3,      3,      3,      3,      3,      3,      4,      4,      4,      4,      4,      4,      5,      5,      5,      5,      5,      5,      5,      5,      5,      5,      5,      5,      5,      5,      5,      5,      5,      5,      5,      5,      5,      5,      5,      5,      5 ],\\n\\\"plot_name\\\": \\\"Neighborhood 1, 2\\\\nAdults (N= 75)\\\",\\n\\\"s\\\": \\\"p\\\",\\n\\\"neighb\\\": 1,\\n\\\"pop\\\": \\\"a\\\",\\n\\\"analysis_type\\\": \\\"school\\\",\\n\\\"fn\\\": \\\"./plots/pie_1_p_a_school.png\\\" \\n},\\n{\\n \\\"sample\\\": 7,\\n\\\"age\\\": \\\"Children\\\",\\n\\\"neighborhood\\\": \\\"Neighborhood 1\\\",\\n\\\"data\\\": [      1,      1,      1,      1,      1,      1,      1,      1,      1,      1,      1,      1,      1,      1,      1,      1,      1,      1,      1,      1,      1,      1,      1,      1,      1,      1,      2,      2,      2,      2,      2,      2,      2,      2,      2,      2,      2,      2,      2,      2,      3,      3,      3,      3,      3,      3,      3,      3,      3,      3,      3,      3,      3,      3,      3,      3,      3,      3,      3,      3,      3,      3,      3,      3,      3,      3,      3,      3,      3,      3,      3,      3,      3,      3,      4 ],\\n\\\"plot_name\\\": \\\"Neighborhood 1, 7\\\\nChildren (N= 75)\\\",\\n\\\"s\\\": \\\"l\\\",\\n\\\"neighb\\\": 1,\\n\\\"pop\\\": \\\"c\\\",\\n\\\"analysis_type\\\": \\\"school\\\",\\n\\\"fn\\\": \\\"./plots/pie_1_l_c_school.png\\\" \\n},\\n{\\n \\\"sample\\\": 7,\\n\\\"age\\\": \\\"Adults\\\",\\n\\\"neighborhood\\\": \\\"Neighborhood 1\\\",\\n\\\"data\\\": [      1,      1,      1,      1,      1,      1,      1,      1,      1,      1,      1,      1,      1,      1,      1,      1,      2,      2,      2,      2,      2,      2,      2,      2,      2,      2,      2,      2,      2,      2,      3,      3,      3,      3,      3,      3,      3,      3,      3,      3,      3,      3,      3,      3,      4,      4,      4,      4,      4,      4,      5,      5,      5,      5,      5,      5,      5,      5,      5,      5,      5,      5,      5,      5,      5,      5,      5,      5,      5,      5,      5,      5,      5,      5,      5 ],\\n\\\"plot_name\\\": \\\"Neighborhood 1, 7\\\\nAdults (N= 75)\\\",\\n\\\"s\\\": \\\"l\\\",\\n\\\"neighb\\\": 1,\\n\\\"pop\\\": \\\"a\\\",\\n\\\"analysis_type\\\": \\\"school\\\",\\n\\\"fn\\\": \\\"./plots/pie_1_l_a_school.png\\\" \\n} \\n]\"\n",
      "\n"
     ]
    }
   ],
   "source": [
    "print(analysis.get_frequencies())"
   ]
  },
  {
   "cell_type": "markdown",
   "metadata": {},
   "source": [
    "Import it back into the analysis class using `set_frequencies()`"
   ]
  },
  {
   "cell_type": "code",
   "execution_count": 72,
   "metadata": {},
   "outputs": [],
   "source": [
    "analysis.set_frequencies(analysis.get_frequencies())"
   ]
  },
  {
   "cell_type": "markdown",
   "metadata": {},
   "source": [
    "Each analysis type has these methods attached to them. "
   ]
  },
  {
   "cell_type": "markdown",
   "metadata": {},
   "source": [
    "# Concentrations"
   ]
  },
  {
   "cell_type": "code",
   "execution_count": 89,
   "metadata": {},
   "outputs": [],
   "source": [
    "analysis.compute_concentrations()"
   ]
  },
  {
   "cell_type": "code",
   "execution_count": 84,
   "metadata": {},
   "outputs": [
    {
     "name": "stdout",
     "output_type": "stream",
     "text": [
      "[[1]]\n",
      "[[1]]$s\n",
      "[1] \"p\"\n",
      "\n",
      "[[1]]$neighb\n",
      "[1] 1\n",
      "\n",
      "[[1]]$sample\n",
      "[1] \"Produce\"\n",
      "\n",
      "[[1]]$neighborhood\n",
      "[1] \"Neighborhood 1\"\n",
      "\n",
      "[[1]]$data\n",
      "[1]    5 7894    5   NA  123\n",
      "\n",
      "[[1]]$plot_name\n",
      "[1] \"Neighborhood 1, Produce\\n(N=5)\"\n",
      "\n",
      "[[1]]$fn\n",
      "[1] \"./plots/hist_1_p.png\"\n",
      "\n",
      "\n",
      "[[2]]\n",
      "[[2]]$s\n",
      "[1] \"l\"\n",
      "\n",
      "[[2]]$neighb\n",
      "[1] 1\n",
      "\n",
      "[[2]]$sample\n",
      "[1] \"Public Latrine\"\n",
      "\n",
      "[[2]]$neighborhood\n",
      "[1] \"Neighborhood 1\"\n",
      "\n",
      "[[2]]$data\n",
      "[1] 5 5 5 5 5 5\n",
      "\n",
      "[[2]]$plot_name\n",
      "[1] \"Neighborhood 1, Public Latrine\\n(N=6)\"\n",
      "\n",
      "[[2]]$fn\n",
      "[1] \"./plots/hist_1_l.png\"\n",
      "\n",
      "\n",
      "[[3]]\n",
      "[[3]]$s\n",
      "[1] \"dw\"\n",
      "\n",
      "[[3]]$neighb\n",
      "[1] 1\n",
      "\n",
      "[[3]]$sample\n",
      "[1] \"Municipal and Drain Water\"\n",
      "\n",
      "[[3]]$neighborhood\n",
      "[1] \"Neighborhood 1\"\n",
      "\n",
      "[[3]]$data\n",
      "[1]  0.50 24.20 12.10  8.75  2.00  1.00  0.50\n",
      "\n",
      "[[3]]$plot_name\n",
      "[1] \"Neighborhood 1, Municipal and Drain Water\\n(N=7)\"\n",
      "\n",
      "[[3]]$fn\n",
      "[1] \"./plots/hist_1_dw.png\"\n",
      "\n",
      "\n",
      "\n"
     ]
    }
   ],
   "source": [
    "print(analysis.concentrations)"
   ]
  },
  {
   "cell_type": "code",
   "execution_count": 85,
   "metadata": {
    "collapsed": true
   },
   "outputs": [],
   "source": [
    "x = analysis.get_concentrations()\n",
    "analysis.set_concentrations(x)"
   ]
  },
  {
   "cell_type": "markdown",
   "metadata": {},
   "source": [
    "# Exposure"
   ]
  },
  {
   "cell_type": "markdown",
   "metadata": {},
   "source": [
    "Exposure calculations combine the other two types of analysis and simulate contamination based on the data collected.  It's pretty cool, but can take a while if running on a single core machine.  This is why we want to cache results. If you don't want to run in parallel set `parallel = False`, otherwise R will use as many cores as the machine has. "
   ]
  },
  {
   "cell_type": "code",
   "execution_count": null,
   "metadata": {},
   "outputs": [],
   "source": [
    "analysis.compute_exposures()"
   ]
  },
  {
   "cell_type": "markdown",
   "metadata": {},
   "source": [
    "# Report"
   ]
  },
  {
   "cell_type": "code",
   "execution_count": 95,
   "metadata": {},
   "outputs": [
    {
     "data": {
      "text/html": [
       "<div>\n",
       "<style scoped>\n",
       "    .dataframe tbody tr th:only-of-type {\n",
       "        vertical-align: middle;\n",
       "    }\n",
       "\n",
       "    .dataframe tbody tr th {\n",
       "        vertical-align: top;\n",
       "    }\n",
       "\n",
       "    .dataframe thead th {\n",
       "        text-align: right;\n",
       "    }\n",
       "</style>\n",
       "<table border=\"1\" class=\"dataframe\">\n",
       "  <thead>\n",
       "    <tr style=\"text-align: right;\">\n",
       "      <th></th>\n",
       "    </tr>\n",
       "  </thead>\n",
       "  <tbody>\n",
       "  </tbody>\n",
       "</table>\n",
       "</div>"
      ],
      "text/plain": [
       "Empty DataFrame\n",
       "Columns: []\n",
       "Index: []"
      ]
     },
     "execution_count": 95,
     "metadata": {},
     "output_type": "execute_result"
    }
   ],
   "source": [
    "analysis.compute_report()"
   ]
  },
  {
   "cell_type": "code",
   "execution_count": null,
   "metadata": {
    "collapsed": true
   },
   "outputs": [],
   "source": []
  }
 ],
 "metadata": {
  "kernelspec": {
   "display_name": "Python 2",
   "language": "python",
   "name": "python2"
  },
  "language_info": {
   "codemirror_mode": {
    "name": "ipython",
    "version": 2
   },
   "file_extension": ".py",
   "mimetype": "text/x-python",
   "name": "python",
   "nbconvert_exporter": "python",
   "pygments_lexer": "ipython2",
   "version": "2.7.13"
  }
 },
 "nbformat": 4,
 "nbformat_minor": 2
}
