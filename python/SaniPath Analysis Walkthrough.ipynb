{
 "cells": [
  {
   "cell_type": "markdown",
   "metadata": {},
   "source": [
    "# Import the libraries and data"
   ]
  },
  {
   "cell_type": "code",
   "execution_count": 34,
   "metadata": {
    "collapsed": true
   },
   "outputs": [],
   "source": [
    "import pandas as pd\n",
    "import SaniPath as sp\n",
    "\n",
    "hh = pd.read_csv('rsrc/HOUSEHOLD_EXAMPLE.csv')\n",
    "cc = pd.read_csv('rsrc/COMMUNITY_EXAMPLE.csv')\n",
    "sc = pd.read_csv('rsrc/SCHOOL_EXAMPLE.csv')\n",
    "col = pd.read_csv('rsrc/SAMPLE_EXAMPLE.csv')\n",
    "lab = pd.read_csv('rsrc/LAB_EXAMPLE.csv')"
   ]
  },
  {
   "cell_type": "markdown",
   "metadata": {},
   "source": [
    "# Make sure all R libraries are installed"
   ]
  },
  {
   "cell_type": "markdown",
   "metadata": {},
   "source": [
    "Conda should handle most of the dependencies, but this can confirm."
   ]
  },
  {
   "cell_type": "code",
   "execution_count": 52,
   "metadata": {
    "scrolled": true
   },
   "outputs": [
    {
     "name": "stderr",
     "output_type": "stream",
     "text": [
      "SaniPath.py:130: SyntaxWarning: assertion is always true, perhaps remove parentheses?\n",
      "  assert(any(x), 'No data seem to exist!')\n",
      "SaniPath.py:133: SyntaxWarning: assertion is always true, perhaps remove parentheses?\n",
      "  assert(getattr(self, \"{}_data\".format(data_name)).empty, 'Not enough data! Have you added everything?')\n",
      "SaniPath.py:137: SyntaxWarning: assertion is always true, perhaps remove parentheses?\n",
      "  assert(analysis_type in acceptable_options,\n",
      "/home/aw/anaconda3/envs/sanipath-dev/lib/python2.7/site-packages/rpy2/rinterface/__init__.py:186: RRuntimeWarning: Installing package into ‘/home/aw/R/x86_64-pc-linux-gnu-library/3.4’\n",
      "(as ‘lib’ is unspecified)\n",
      "\n",
      "  warnings.warn(x, RRuntimeWarning)\n",
      "/home/aw/anaconda3/envs/sanipath-dev/lib/python2.7/site-packages/rpy2/rinterface/__init__.py:186: RRuntimeWarning: also installing the dependencies ‘Formula’, ‘latticeExtra’, ‘acepack’, ‘gridExtra’, ‘viridis’, ‘mvtnorm’, ‘TH.data’, ‘sandwich’, ‘checkmate’, ‘lambda.r’, ‘futile.options’, ‘Hmisc’, ‘cmprsk’, ‘etm’, ‘quadprog’, ‘polspline’, ‘multcomp’, ‘htmlTable’, ‘fracdiff’, ‘lmtest’, ‘RcppArmadillo’, ‘koRpus’, ‘futile.logger’, ‘microbenchmark’, ‘descr’, ‘tables’, ‘reshape’, ‘memisc’, ‘Epi’, ‘tseries’, ‘rms’, ‘forecast’\n",
      "\n",
      "\n",
      "  warnings.warn(x, RRuntimeWarning)\n",
      "/home/aw/anaconda3/envs/sanipath-dev/lib/python2.7/site-packages/rpy2/rinterface/__init__.py:186: RRuntimeWarning: \n",
      "  warnings.warn(x, RRuntimeWarning)\n",
      "/home/aw/anaconda3/envs/sanipath-dev/lib/python2.7/site-packages/rpy2/rinterface/__init__.py:186: RRuntimeWarning: The downloaded source packages are in\n",
      "\t‘/tmp/RtmpWq1p11/downloaded_packages’\n",
      "  warnings.warn(x, RRuntimeWarning)\n"
     ]
    },
    {
     "data": {
      "text/plain": [
       "<SaniPath.RSetup instance at 0x7fb10fd01368>"
      ]
     },
     "execution_count": 52,
     "metadata": {},
     "output_type": "execute_result"
    }
   ],
   "source": [
    "reload(sp)\n",
    "sp.RSetup('./r-requirements.txt') # wherever this r-requirements.txt file sits"
   ]
  },
  {
   "cell_type": "markdown",
   "metadata": {},
   "source": [
    "# Setup the analysis class"
   ]
  },
  {
   "cell_type": "markdown",
   "metadata": {},
   "source": [
    "Setup the analysis class instance with several things we need to know.  Not all are necessary all the time, but conducting analysis and generating a report, all are required. Otherwise, default values will be filled in. "
   ]
  },
  {
   "cell_type": "code",
   "execution_count": 53,
   "metadata": {},
   "outputs": [
    {
     "name": "stderr",
     "output_type": "stream",
     "text": [
      "SaniPath.py:130: SyntaxWarning: assertion is always true, perhaps remove parentheses?\n",
      "  assert(any(x), 'No data seem to exist!')\n",
      "SaniPath.py:133: SyntaxWarning: assertion is always true, perhaps remove parentheses?\n",
      "  assert(getattr(self, \"{}_data\".format(data_name)).empty, 'Not enough data! Have you added everything?')\n",
      "SaniPath.py:137: SyntaxWarning: assertion is always true, perhaps remove parentheses?\n",
      "  assert(analysis_type in acceptable_options,\n"
     ]
    }
   ],
   "source": [
    "reload(sp)\n",
    "analysis = sp.Analysis(\n",
    "                 r_dir='./',\n",
    "                 plot_dir = './plots/',\n",
    "                 analysis_type = 'household',\n",
    "                 # used for analysis ----\n",
    "                 pathway_codes = {'p' : 2,\n",
    "                                    'dw' : 3,\n",
    "                                    'o' : 4,\n",
    "                                    'l' : 7},\n",
    "                 pathway_labels = {'p' : 'Produce',\n",
    "                                 'dw' : 'Municipal and Drain Water',\n",
    "                                 'o' : 'Ocean Water',\n",
    "                                 'l' : 'Public Latrine'},\n",
    "                 neighborhood_mapping = {'Jamaica Plain' : 1,\n",
    "                                         'Brigthon' : 2},\n",
    "                 # report specific arguments ----\n",
    "                 city_name = 'Atlanta, GA',\n",
    "                 lab_name = 'Bill Nye, Inc',\n",
    "                 start_date = '2017-01-01',\n",
    "                 lab_MF = False,\n",
    "                 language = \"English\",\n",
    "                 freq_thresh= 50\n",
    "                      )\n"
   ]
  },
  {
   "cell_type": "markdown",
   "metadata": {},
   "source": [
    "Add data to the analysis object using the add_data() method.  Acceptable options match the forms we collect.  household, school, community, sample, and lab."
   ]
  },
  {
   "cell_type": "code",
   "execution_count": 54,
   "metadata": {},
   "outputs": [],
   "source": [
    "analysis.add_data('household', hh)\n",
    "analysis.add_data('school', sc)\n",
    "analysis.add_data('community', cc)\n",
    "analysis.add_data('sample', col)\n",
    "analysis.add_data('lab', lab)\n",
    "\n"
   ]
  },
  {
   "cell_type": "markdown",
   "metadata": {},
   "source": [
    "# Frequency calculations (Pie Charts)"
   ]
  },
  {
   "cell_type": "markdown",
   "metadata": {},
   "source": [
    "Use `compute_frequencies()` to calculate.  This depends on what `self.analysis_type` is set to at `__init__()`.  To check, look at analysis.analysis_type"
   ]
  },
  {
   "cell_type": "code",
   "execution_count": 38,
   "metadata": {},
   "outputs": [
    {
     "name": "stdout",
     "output_type": "stream",
     "text": [
      "household\n"
     ]
    }
   ],
   "source": [
    "print(analysis.analysis_type)"
   ]
  },
  {
   "cell_type": "code",
   "execution_count": 55,
   "metadata": {
    "collapsed": true
   },
   "outputs": [],
   "source": [
    "pie_chart_data = analysis.compute_frequencies()"
   ]
  },
  {
   "cell_type": "markdown",
   "metadata": {},
   "source": [
    "Convert to and from R and Python using R's JSON reader.  It's much easier than trying to convert other ways.  We will need to store the results for caching purposes"
   ]
  },
  {
   "cell_type": "code",
   "execution_count": 40,
   "metadata": {
    "scrolled": true
   },
   "outputs": [
    {
     "name": "stdout",
     "output_type": "stream",
     "text": [
      "[1] \"[\\n {\\n \\\"sample\\\": \\\"Ocean Water\\\",\\n\\\"age\\\": \\\"Adults\\\",\\n\\\"neighborhood\\\": \\\"Neighborhood 1\\\",\\n\\\"data\\\": [ 3, 2, 4, 2, 4 ],\\n\\\"plot_name\\\": \\\"Neighborhood 1, Ocean Water\\\\nAdults (N= 5)\\\",\\n\\\"s\\\": \\\"o\\\",\\n\\\"neighb\\\": 1,\\n\\\"pop\\\": \\\"a\\\",\\n\\\"analysis_type\\\": \\\"household\\\",\\n\\\"fn\\\": \\\"./plots/pie_1_o_a_household.png\\\" \\n},\\n{\\n \\\"sample\\\": \\\"Ocean Water\\\",\\n\\\"age\\\": \\\"Children\\\",\\n\\\"neighborhood\\\": \\\"Neighborhood 1\\\",\\n\\\"data\\\": [ 2, 2, 4, 1, 3 ],\\n\\\"plot_name\\\": \\\"Neighborhood 1, Ocean Water\\\\nChildren (N= 5)\\\",\\n\\\"s\\\": \\\"o\\\",\\n\\\"neighb\\\": 1,\\n\\\"pop\\\": \\\"c\\\",\\n\\\"analysis_type\\\": \\\"household\\\",\\n\\\"fn\\\": \\\"./plots/pie_1_o_c_household.png\\\" \\n},\\n{\\n \\\"sample\\\": \\\"Produce\\\",\\n\\\"age\\\": \\\"Adults\\\",\\n\\\"neighborhood\\\": \\\"Neighborhood 1\\\",\\n\\\"data\\\": [ 2, 3, 5, 4, 3 ],\\n\\\"plot_name\\\": \\\"Neighborhood 1, Produce\\\\nAdults (N= 5)\\\",\\n\\\"s\\\": \\\"p\\\",\\n\\\"neighb\\\": 1,\\n\\\"pop\\\": \\\"a\\\",\\n\\\"analysis_type\\\": \\\"household\\\",\\n\\\"fn\\\": \\\"./plots/pie_1_p_a_household.png\\\" \\n},\\n{\\n \\\"sample\\\": \\\"Produce\\\",\\n\\\"age\\\": \\\"Children\\\",\\n\\\"neighborhood\\\": \\\"Neighborhood 1\\\",\\n\\\"data\\\": [ 3, 5, 5, 4, 3 ],\\n\\\"plot_name\\\": \\\"Neighborhood 1, Produce\\\\nChildren (N= 5)\\\",\\n\\\"s\\\": \\\"p\\\",\\n\\\"neighb\\\": 1,\\n\\\"pop\\\": \\\"c\\\",\\n\\\"analysis_type\\\": \\\"household\\\",\\n\\\"fn\\\": \\\"./plots/pie_1_p_c_household.png\\\" \\n},\\n{\\n \\\"sample\\\": \\\"Public Latrine\\\",\\n\\\"age\\\": \\\"Adults\\\",\\n\\\"neighborhood\\\": \\\"Neighborhood 1\\\",\\n\\\"data\\\": [ 1, 2, 2, 2, 3 ],\\n\\\"plot_name\\\": \\\"Neighborhood 1, Public Latrine\\\\nAdults (N= 5)\\\",\\n\\\"s\\\": \\\"l\\\",\\n\\\"neighb\\\": 1,\\n\\\"pop\\\": \\\"a\\\",\\n\\\"analysis_type\\\": \\\"household\\\",\\n\\\"fn\\\": \\\"./plots/pie_1_l_a_household.png\\\" \\n},\\n{\\n \\\"sample\\\": \\\"Public Latrine\\\",\\n\\\"age\\\": \\\"Children\\\",\\n\\\"neighborhood\\\": \\\"Neighborhood 1\\\",\\n\\\"data\\\": [ 1, 1, 1, 1, 3 ],\\n\\\"plot_name\\\": \\\"Neighborhood 1, Public Latrine\\\\nChildren (N= 5)\\\",\\n\\\"s\\\": \\\"l\\\",\\n\\\"neighb\\\": 1,\\n\\\"pop\\\": \\\"c\\\",\\n\\\"analysis_type\\\": \\\"household\\\",\\n\\\"fn\\\": \\\"./plots/pie_1_l_c_household.png\\\" \\n} \\n]\"\n",
      "\n"
     ]
    }
   ],
   "source": [
    "print(analysis.get_frequencies())"
   ]
  },
  {
   "cell_type": "markdown",
   "metadata": {},
   "source": [
    "Import it back into the analysis class using `set_frequencies()`"
   ]
  },
  {
   "cell_type": "code",
   "execution_count": 41,
   "metadata": {
    "collapsed": true
   },
   "outputs": [],
   "source": [
    "analysis.set_frequencies(analysis.get_frequencies())"
   ]
  },
  {
   "cell_type": "markdown",
   "metadata": {},
   "source": [
    "Each analysis type has these methods attached to them. "
   ]
  },
  {
   "cell_type": "markdown",
   "metadata": {},
   "source": [
    "If you look at the output, each object has an attribute called 'fn' which is short for filename.  This is a reference to where the plot was generated and saved to. By default, they are saved to `plots` inside the R working directory, but this can be set to any directory by setting the `plot_dir` argument at instantiation. "
   ]
  },
  {
   "cell_type": "markdown",
   "metadata": {},
   "source": [
    "![example plot](plots/pie_1_l_a_household.png)"
   ]
  },
  {
   "cell_type": "markdown",
   "metadata": {},
   "source": [
    "The files are stored with the format [plot_type] [neighborhood_code] [pathway_code] [population_code] [survey_type].  Note that the histograms do not have [population_code] or [survey_type] since those are not population specific and are always collected with the Sample and Lab forms. "
   ]
  },
  {
   "cell_type": "code",
   "execution_count": 42,
   "metadata": {},
   "outputs": [
    {
     "data": {
      "text/plain": [
       "['ppl-1_l_c_school.png',\n",
       " 'pie_1_o_c_household.png',\n",
       " 'pie_1_d_c_school.png',\n",
       " 'ppl_1_d_a_school.png',\n",
       " 'hist_1_l.png',\n",
       " 'hist_1_bw.png',\n",
       " 'ppl-1_s_c_school.png',\n",
       " 'hist_1_p.png',\n",
       " 'ppl_1_s_a_school.png',\n",
       " 'ppl-1_d_c_school.png',\n",
       " 'hist_1_s.png',\n",
       " 'ppl-1_d_a_school.png',\n",
       " 'pie_1_bw_a_school.png',\n",
       " 'ppl_1_sf_c_school.png',\n",
       " 'pie_1_p_c_household.png',\n",
       " 'pie_1_d_a_school.png',\n",
       " 'hist_1_pa.png',\n",
       " 'ppl-1_bw_c_school.png',\n",
       " 'ppl_1_l_c_school.png',\n",
       " 'pie_1_p_a_household.png',\n",
       " 'ppl-1_p_a_school.png',\n",
       " 'ppl_1_d_c_school.png',\n",
       " 'ppl_1_p_c_school.png',\n",
       " 'pie_1_sf_c_school.png',\n",
       " 'pie_1_bw_c_school.png',\n",
       " 'ppl-1_bw_a_school.png',\n",
       " 'pie_1_o_c_school.png',\n",
       " 'pie_1_l_c_school.png',\n",
       " 'ppl_1_bw_a_school.png',\n",
       " 'ppl-1_sf_c_school.png',\n",
       " 'pie_1_p_a_school.png',\n",
       " 'hist_1_sf.png',\n",
       " 'pie_1_l_c_household.png',\n",
       " 'pie_1_s_c_school.png',\n",
       " 'ppl_1_bw_c_school.png',\n",
       " 'pie_1_sf_a_school.png',\n",
       " 'pie_1_s_a_school.png',\n",
       " 'ppl_1_p_a_school.png',\n",
       " 'ppl-1_p_c_school.png',\n",
       " 'pie_1_f_c_school.png',\n",
       " 'pie_1_o_a_household.png',\n",
       " 'pie_1_p_c_school.png',\n",
       " 'pie_1_f_a_school.png',\n",
       " 'pie_1_l_a_school.png',\n",
       " 'pie_1_l_a_household.png',\n",
       " 'ppl-1_sf_a_school.png',\n",
       " 'hist_1_dw.png',\n",
       " 'pie_1_o_a_school.png',\n",
       " 'ppl_1_l_a_school.png',\n",
       " 'ppl_1_sf_a_school.png',\n",
       " 'ppl-1_s_a_school.png',\n",
       " 'ppl-1_l_a_school.png',\n",
       " 'hist_1_d.png',\n",
       " 'ppl_1_s_c_school.png']"
      ]
     },
     "execution_count": 42,
     "metadata": {},
     "output_type": "execute_result"
    }
   ],
   "source": [
    "import os\n",
    "os.listdir('plots')"
   ]
  },
  {
   "cell_type": "markdown",
   "metadata": {},
   "source": [
    "# Concentrations"
   ]
  },
  {
   "cell_type": "code",
   "execution_count": 56,
   "metadata": {
    "collapsed": true
   },
   "outputs": [],
   "source": [
    "analysis.compute_concentrations()\n"
   ]
  },
  {
   "cell_type": "code",
   "execution_count": 44,
   "metadata": {},
   "outputs": [
    {
     "name": "stdout",
     "output_type": "stream",
     "text": [
      "[[1]]\n",
      "[[1]]$s\n",
      "[1] \"p\"\n",
      "\n",
      "[[1]]$neighb\n",
      "[1] 1\n",
      "\n",
      "[[1]]$sample\n",
      "[1] \"Produce\"\n",
      "\n",
      "[[1]]$neighborhood\n",
      "[1] \"Neighborhood 1\"\n",
      "\n",
      "[[1]]$data\n",
      "[1]    5 7894    5   NA  123\n",
      "\n",
      "[[1]]$plot_name\n",
      "[1] \"Neighborhood 1, Produce\\n(N=5)\"\n",
      "\n",
      "[[1]]$fn\n",
      "[1] \"./plots/hist_1_p.png\"\n",
      "\n",
      "\n",
      "[[2]]\n",
      "[[2]]$s\n",
      "[1] \"l\"\n",
      "\n",
      "[[2]]$neighb\n",
      "[1] 1\n",
      "\n",
      "[[2]]$sample\n",
      "[1] \"Public Latrine\"\n",
      "\n",
      "[[2]]$neighborhood\n",
      "[1] \"Neighborhood 1\"\n",
      "\n",
      "[[2]]$data\n",
      "[1] 5 5 5 5 5 5\n",
      "\n",
      "[[2]]$plot_name\n",
      "[1] \"Neighborhood 1, Public Latrine\\n(N=6)\"\n",
      "\n",
      "[[2]]$fn\n",
      "[1] \"./plots/hist_1_l.png\"\n",
      "\n",
      "\n",
      "[[3]]\n",
      "[[3]]$s\n",
      "[1] \"dw\"\n",
      "\n",
      "[[3]]$neighb\n",
      "[1] 1\n",
      "\n",
      "[[3]]$sample\n",
      "[1] \"Municipal and Drain Water\"\n",
      "\n",
      "[[3]]$neighborhood\n",
      "[1] \"Neighborhood 1\"\n",
      "\n",
      "[[3]]$data\n",
      "[1]  0.50 24.20 12.10  8.75  2.00  1.00  0.50\n",
      "\n",
      "[[3]]$plot_name\n",
      "[1] \"Neighborhood 1, Municipal and Drain Water\\n(N=7)\"\n",
      "\n",
      "[[3]]$fn\n",
      "[1] \"./plots/hist_1_dw.png\"\n",
      "\n",
      "\n",
      "\n"
     ]
    }
   ],
   "source": [
    "print(analysis.concentrations)"
   ]
  },
  {
   "cell_type": "code",
   "execution_count": 45,
   "metadata": {
    "collapsed": true
   },
   "outputs": [],
   "source": [
    "x = analysis.get_concentrations()\n",
    "analysis.set_concentrations(x)"
   ]
  },
  {
   "cell_type": "markdown",
   "metadata": {},
   "source": [
    "# Exposure"
   ]
  },
  {
   "cell_type": "markdown",
   "metadata": {},
   "source": [
    "Exposure calculations combine the other two types of analysis and simulate contamination based on the data collected.  It's pretty cool, but can take a while if running on a single core machine.  This is why we want to cache results. If you don't want to run in parallel set `parallel = False`, otherwise R will use as many cores as the machine has. This is taking a long time in Jupyter, but when running via console, it runs reasonably fast on a 4 core machine. Importing a stored version for now. "
   ]
  },
  {
   "cell_type": "code",
   "execution_count": 57,
   "metadata": {
    "collapsed": true
   },
   "outputs": [],
   "source": [
    "# analysis.compute_exposures()\n",
    "analysis.exposures = analysis._from_json('rsrc/pplplot_example.json')\n"
   ]
  },
  {
   "cell_type": "markdown",
   "metadata": {},
   "source": [
    "![people plot example](plots/ppl-1_d_a_school.png)"
   ]
  },
  {
   "cell_type": "markdown",
   "metadata": {},
   "source": [
    "# Report"
   ]
  },
  {
   "cell_type": "code",
   "execution_count": null,
   "metadata": {},
   "outputs": [],
   "source": []
  },
  {
   "cell_type": "code",
   "execution_count": 58,
   "metadata": {},
   "outputs": [
    {
     "name": "stderr",
     "output_type": "stream",
     "text": [
      "/home/aw/anaconda3/envs/sanipath-dev/lib/python2.7/site-packages/rpy2/rinterface/__init__.py:186: RRuntimeWarning: The following objects are masked from params (pos = 3):\n",
      "\n",
      "    city_name, community_data, freq_thresh, household_data, lab_data,\n",
      "    lab_MF, lab_name, language, neighborhood_mapping, pathway_codes,\n",
      "    pathway_labels, ps_freq, sample_data, school_data, start_date\n",
      "\n",
      "\n",
      "  warnings.warn(x, RRuntimeWarning)\n",
      "/home/aw/anaconda3/envs/sanipath-dev/lib/python2.7/site-packages/rpy2/rinterface/__init__.py:186: RRuntimeWarning: The following objects are masked from params (pos = 5):\n",
      "\n",
      "    city_name, community_data, freq_thresh, household_data, lab_data,\n",
      "    lab_MF, lab_name, language, neighborhood_mapping, pathway_codes,\n",
      "    pathway_labels, ps_freq, sample_data, school_data, start_date\n",
      "\n",
      "\n",
      "  warnings.warn(x, RRuntimeWarning)\n",
      "/home/aw/anaconda3/envs/sanipath-dev/lib/python2.7/site-packages/rpy2/rinterface/__init__.py:186: RRuntimeWarning: The following objects are masked from params (pos = 7):\n",
      "\n",
      "    city_name, community_data, freq_thresh, household_data, lab_data,\n",
      "    lab_MF, lab_name, language, neighborhood_mapping, pathway_codes,\n",
      "    pathway_labels, ps_freq, sample_data, school_data, start_date\n",
      "\n",
      "\n",
      "  warnings.warn(x, RRuntimeWarning)\n"
     ]
    },
    {
     "name": "stdout",
     "output_type": "stream",
     "text": [
      "[1] \"Produce, Public Latrine, Ocean Water, and Municipal and Drain Water\"\n",
      "   Neighborhood Communities Surveyed Households Surveyed Schools Surveyed\n",
      "1             3                    1                   0                0\n",
      "2      Brigthon                    1                   0                0\n",
      "3 Jamaica Plain                    2                   5                1\n",
      "4         Total                    4                   5                1\n",
      "   Neighborhood 1 10 5 8 9 Municipal and Drain Water Produce Public Latrine\n",
      "1 Jamaica Plain 6  3 2 6 9                         7       5              6\n",
      "2         Total 6  3 2 6 9                         7       5              6\n",
      "[1] \"hi\"\n",
      "  |....                                                             |   6%\n",
      "  ordinary text without R code\n",
      "\n",
      "  |........                                                         |  12%\n",
      "label: unnamed-chunk-1 (with options) \n",
      "List of 1\n",
      " $ echo: logi FALSE\n",
      "\n",
      "  |...........                                                      |  18%\n",
      "  ordinary text without R code\n",
      "\n",
      "  |...............                                                  |  24%\n",
      "label: unnamed-chunk-2 (with options) \n",
      "List of 1\n",
      " $ child: chr \"report_sections/Executive_Summary.Rmd\"\n",
      "\n",
      "  |.................................................................| 100%\n",
      "   inline R code fragments\n",
      "\n",
      "\n",
      "  |...................                                              |  29%\n",
      "  ordinary text without R code\n",
      "\n",
      "  |.......................                                          |  35%\n",
      "label: unnamed-chunk-3 (with options) \n",
      "List of 1\n",
      " $ child: chr \"report_sections/Introduction.Rmd\"\n",
      "\n",
      "  |.................................................................| 100%\n",
      "  ordinary text without R code\n",
      "\n",
      "\n",
      "  |...........................                                      |  41%\n",
      "  ordinary text without R code\n",
      "\n",
      "  |...............................                                  |  47%\n",
      "label: unnamed-chunk-4 (with options) \n",
      "List of 1\n",
      " $ child: chr \"report_sections/Methodology.Rmd\"\n",
      "\n",
      "  |.............                                                    |  20%\n",
      "   inline R code fragments\n",
      "\n",
      "  |..........................                                       |  40%\n",
      "label: unnamed-chunk-9 (with options) \n",
      "List of 1\n",
      " $ echo: logi FALSE\n",
      "\n",
      "  |.......................................                          |  60%\n",
      "   inline R code fragments\n",
      "\n",
      "  |....................................................             |  80%\n",
      "label: unnamed-chunk-10 (with options) \n",
      "List of 1\n",
      " $ echo: logi FALSE\n",
      "\n",
      "  |.................................................................| 100%\n",
      "  ordinary text without R code\n",
      "\n",
      "\n",
      "  |..................................                               |  53%\n",
      "  ordinary text without R code\n",
      "\n",
      "  |......................................                           |  59%\n",
      "label: unnamed-chunk-5 (with options) \n",
      "List of 1\n",
      " $ child: chr \"report_sections/Results_and_Discussion.Rmd\"\n",
      "\n",
      "  |........                                                         |  12%\n",
      "  ordinary text without R code\n",
      "\n",
      "  |................                                                 |  25%\n",
      "label: unnamed-chunk-11 (with options) \n",
      "List of 1\n",
      " $ echo: logi FALSE\n",
      "\n",
      "  |........................                                         |  38%\n",
      "  ordinary text without R code\n",
      "\n",
      "  |................................                                 |  50%\n",
      "label: unnamed-chunk-12\n",
      "  |.........................................                        |  62%\n",
      "   inline R code fragments\n",
      "\n",
      "  |.................................................                |  75%\n",
      "label: unnamed-chunk-13\n",
      "  |.........................................................        |  88%\n",
      "  ordinary text without R code\n",
      "\n",
      "  |.................................................................| 100%\n",
      "label: unnamed-chunk-14\n",
      "\n",
      "  |..........................................                       |  65%\n",
      "  ordinary text without R code\n",
      "\n",
      "  |..............................................                   |  71%\n",
      "label: unnamed-chunk-6 (with options) \n",
      "List of 1\n",
      " $ child: chr \"report_sections/Implications.Rmd\"\n",
      "\n",
      "  |......................                                           |  33%\n",
      "   inline R code fragments\n",
      "\n",
      "  |...........................................                      |  67%\n",
      "label: unnamed-chunk-15\n",
      "  |.................................................................| 100%\n",
      "  ordinary text without R code\n",
      "\n",
      "\n",
      "  |..................................................               |  76%\n",
      "  ordinary text without R code\n",
      "\n",
      "  |......................................................           |  82%\n",
      "label: unnamed-chunk-7 (with options) \n",
      "List of 1\n",
      " $ child: chr \"report_sections/Strengths_and_Limitations.Rmd\"\n",
      "\n",
      "  |.................................................................| 100%\n",
      "  ordinary text without R code\n",
      "\n",
      "\n",
      "  |.........................................................        |  88%"
     ]
    },
    {
     "name": "stderr",
     "output_type": "stream",
     "text": [
      "/home/aw/anaconda3/envs/sanipath-dev/lib/python2.7/site-packages/rpy2/rinterface/__init__.py:186: RRuntimeWarning: \n",
      "\n",
      "processing file: ./report_sections/Executive_Summary.Rmd\n",
      "\n",
      "  warnings.warn(x, RRuntimeWarning)\n",
      "/home/aw/anaconda3/envs/sanipath-dev/lib/python2.7/site-packages/rpy2/rinterface/__init__.py:186: RRuntimeWarning: \n",
      "\n",
      "processing file: ./report_sections/Introduction.Rmd\n",
      "\n",
      "  warnings.warn(x, RRuntimeWarning)\n",
      "/home/aw/anaconda3/envs/sanipath-dev/lib/python2.7/site-packages/rpy2/rinterface/__init__.py:186: RRuntimeWarning: \n",
      "\n",
      "processing file: ./report_sections/Methodology.Rmd\n",
      "\n",
      "  warnings.warn(x, RRuntimeWarning)\n",
      "/home/aw/anaconda3/envs/sanipath-dev/lib/python2.7/site-packages/rpy2/rinterface/__init__.py:186: RRuntimeWarning: \n",
      "\n",
      "processing file: ./report_sections/Results_and_Discussion.Rmd\n",
      "\n",
      "  warnings.warn(x, RRuntimeWarning)\n",
      "/home/aw/anaconda3/envs/sanipath-dev/lib/python2.7/site-packages/rpy2/rinterface/__init__.py:186: RRuntimeWarning: \n",
      "\n",
      "processing file: ./report_sections/Implications.Rmd\n",
      "\n",
      "  warnings.warn(x, RRuntimeWarning)\n",
      "/home/aw/anaconda3/envs/sanipath-dev/lib/python2.7/site-packages/rpy2/rinterface/__init__.py:186: RRuntimeWarning: \n",
      "\n",
      "processing file: ./report_sections/Strengths_and_Limitations.Rmd\n",
      "\n",
      "  warnings.warn(x, RRuntimeWarning)\n"
     ]
    },
    {
     "name": "stdout",
     "output_type": "stream",
     "text": [
      "\n",
      "  ordinary text without R code\n",
      "\n",
      "  |.............................................................    |  94%\n",
      "label: unnamed-chunk-8 (with options) \n",
      "List of 1\n",
      " $ child: chr \"report_sections/Conclusion.Rmd\"\n",
      "\n",
      "  |.................................................................| 100%\n",
      "   inline R code fragments\n",
      "\n",
      "\n",
      "  |.................................................................| 100%\n",
      "  ordinary text without R code\n",
      "\n",
      "\n"
     ]
    },
    {
     "name": "stderr",
     "output_type": "stream",
     "text": [
      "/home/aw/anaconda3/envs/sanipath-dev/lib/python2.7/site-packages/rpy2/rinterface/__init__.py:186: RRuntimeWarning: \n",
      "\n",
      "processing file: ./report_sections/Conclusion.Rmd\n",
      "\n",
      "  warnings.warn(x, RRuntimeWarning)\n"
     ]
    },
    {
     "name": "stdout",
     "output_type": "stream",
     "text": [
      "/home/aw/anaconda3/envs/sanipath-dev/bin/pandoc +RTS -K512m -RTS report.utf8.md --to docx --from markdown+autolink_bare_uris+ascii_identifiers+tex_math_single_backslash --output /home/aw/development/EpiTech/CGSW/RAT-shiny/python/report.docx --highlight-style tango \n"
     ]
    },
    {
     "name": "stderr",
     "output_type": "stream",
     "text": [
      "/home/aw/anaconda3/envs/sanipath-dev/lib/python2.7/site-packages/rpy2/rinterface/__init__.py:186: RRuntimeWarning: output file: report.knit.md\n",
      "\n",
      "\n",
      "  warnings.warn(x, RRuntimeWarning)\n",
      "/home/aw/anaconda3/envs/sanipath-dev/lib/python2.7/site-packages/rpy2/rinterface/__init__.py:186: RRuntimeWarning: \n",
      "Output created: report.docx\n",
      "\n",
      "  warnings.warn(x, RRuntimeWarning)\n"
     ]
    }
   ],
   "source": [
    "analysis.compute_report()"
   ]
  },
  {
   "cell_type": "markdown",
   "metadata": {},
   "source": [
    "The document should be stored in the root directory of R by default.  You can change this location with `out_dir`. "
   ]
  },
  {
   "cell_type": "code",
   "execution_count": 31,
   "metadata": {},
   "outputs": [
    {
     "data": {
      "text/plain": [
       "R object with classes: ('list',) mapped to:\n",
       "<ListVector - Python:0x7fb10fcaabd8 / R:0x6037ed8>\n",
       "[ListV..., ListV..., ListV..., ..., ListV..., ListV..., ListV...]\n",
       "R object with classes: ('list',) mapped to:\n",
       "<ListVector - Python:0x7fb10fcaabd8 / R:0x6037ed8>\n",
       "[ListV..., ListV..., ListV..., ..., ListV..., ListV..., ListV...]\n",
       "R object with classes: ('list',) mapped to:\n",
       "<ListVector - Python:0x7fb10fcaabd8 / R:0x6037ed8>\n",
       "[ListV..., ListV..., ListV..., ..., ListV..., ListV..., ListV...]\n",
       "R object with classes: ('list',) mapped to:\n",
       "<ListVector - Python:0x7fb10fcaabd8 / R:0x6037ed8>\n",
       "[ListV..., ListV..., ListV..., ..., ListV..., ListV..., ListV...]\n",
       "  ...\n",
       "R object with classes: ('list',) mapped to:\n",
       "<ListVector - Python:0x7fb10fcaabd8 / R:0x6037ed8>\n",
       "[ListV..., ListV..., ListV..., ..., ListV..., ListV..., ListV...]\n",
       "R object with classes: ('list',) mapped to:\n",
       "<ListVector - Python:0x7fb10fcaabd8 / R:0x6037ed8>\n",
       "[ListV..., ListV..., ListV..., ..., ListV..., ListV..., ListV...]\n",
       "R object with classes: ('list',) mapped to:\n",
       "<ListVector - Python:0x7fb10fcaabd8 / R:0x6037ed8>\n",
       "[ListV..., ListV..., ListV..., ..., ListV..., ListV..., ListV...]"
      ]
     },
     "execution_count": 31,
     "metadata": {},
     "output_type": "execute_result"
    }
   ],
   "source": []
  },
  {
   "cell_type": "code",
   "execution_count": null,
   "metadata": {
    "collapsed": true
   },
   "outputs": [],
   "source": []
  }
 ],
 "metadata": {
  "kernelspec": {
   "display_name": "Python 2",
   "language": "python",
   "name": "python2"
  },
  "language_info": {
   "codemirror_mode": {
    "name": "ipython",
    "version": 2
   },
   "file_extension": ".py",
   "mimetype": "text/x-python",
   "name": "python",
   "nbconvert_exporter": "python",
   "pygments_lexer": "ipython2",
   "version": "2.7.13"
  }
 },
 "nbformat": 4,
 "nbformat_minor": 2
}
