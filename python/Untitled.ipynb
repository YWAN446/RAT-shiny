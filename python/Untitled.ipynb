{
 "cells": [
  {
   "cell_type": "code",
   "execution_count": 1,
   "metadata": {
    "collapsed": true
   },
   "outputs": [],
   "source": [
    "import yaml\n",
    "f = open('config.yaml', 'r')\n",
    "config = yaml.load(f)\n",
    "f.close()\n",
    "\n"
   ]
  },
  {
   "cell_type": "code",
   "execution_count": 2,
   "metadata": {},
   "outputs": [
    {
     "name": "stdout",
     "output_type": "stream",
     "text": [
      "{'lab_analysis_method': {'idexx': 1.0, 'membrane': 2.0}, 'denoms': {'default': 100.0, 'p': 500.0, 'pa': 2.0, 'l': 14.0, 'sf': 10.0}, 'membrane_reading': {'TNTC': 1.0, 'TDTC': 2.0, 'valid': 3.0}, 'cut_point': {'days': [0.0, 3.0, 6.0], 'times': [0.0, 5.0, 10.0]}, 'jags_par_freq': {'niter': 10000.0, 'nburn': 1000.0, 'thin': 1.0}, 'membrane_value': {'TNTC': 999.0, 'upper_limit': 200.0, 'lower_limit': 0.0, 'TDTC': 998.0, 'cut_point': 10.0, 'negative': 0.5}, 'idexx_reading': {'valid': 2.0, 'not_valid': 1.0}, 'idexx_value': {'cut_point': 200.0, 'upper_limit': 2419.6, 'lower_limit': 1.0, 'negative': 0.5, 'censored': 9999.0}, 'pathway_labels': {'d': 'Drain Water', 'f': 'Flood Water', 'l': 'Public Latrine', 'o': 'Ocean Water', 'p': 'Produce', 's': 'Surface Water', 'pa': 'Particulate', 'bw': 'Bathing Water', 'dw': 'Municipal and Piped Water', 'sf': 'Street Food'}, 'pathway_codes': {'d': 1.0, 'f': 6.0, 'l': 7.0, 'o': 4.0, 'p': 2.0, 's': 5.0, 'pa': 8.0, 'bw': 9.0, 'dw': 3.0, 'sf': 10.0}, 'nsim': 1000.0, 'init_freq': {'p': 0.2, 'r': 1.0, 'days': ['.na.real', 2.0, 5.0, 7.0], 'times': ['.na.real', 2.0, 7.0, 12.0]}, 'jags_par_env': {'niter': 10000.0, 'nburn': 1000.0, 'thin': 1.0}}\n"
     ]
    }
   ],
   "source": [
    "print(config)"
   ]
  },
  {
   "cell_type": "markdown",
   "metadata": {},
   "source": [
    "need to convert this into a list object for r"
   ]
  },
  {
   "cell_type": "code",
   "execution_count": 3,
   "metadata": {
    "collapsed": true
   },
   "outputs": [],
   "source": [
    "from rpy2.robjects.vectors import ListVector as ls"
   ]
  },
  {
   "cell_type": "code",
   "execution_count": 9,
   "metadata": {},
   "outputs": [
    {
     "data": {
      "text/plain": [
       "[dict, dict, dict, dict, dict, dict, dict, dict, dict, dict, float, dict, dict]"
      ]
     },
     "execution_count": 9,
     "metadata": {},
     "output_type": "execute_result"
    }
   ],
   "source": [
    "[type(i) for i in config.values()]"
   ]
  },
  {
   "cell_type": "code",
   "execution_count": 12,
   "metadata": {
    "collapsed": true
   },
   "outputs": [],
   "source": [
    "import SaniPath as sp\n",
    "a = sp.Analysis()"
   ]
  },
  {
   "cell_type": "code",
   "execution_count": 14,
   "metadata": {
    "collapsed": true
   },
   "outputs": [],
   "source": [
    "from functools import partial"
   ]
  },
  {
   "cell_type": "code",
   "execution_count": 15,
   "metadata": {
    "collapsed": true
   },
   "outputs": [],
   "source": [
    "def x(a, b):\n",
    "    print(a + b)"
   ]
  },
  {
   "cell_type": "code",
   "execution_count": 16,
   "metadata": {
    "collapsed": true
   },
   "outputs": [],
   "source": [
    "y = partial(x, b='hi')"
   ]
  },
  {
   "cell_type": "code",
   "execution_count": 18,
   "metadata": {},
   "outputs": [
    {
     "name": "stdout",
     "output_type": "stream",
     "text": [
      "ohhi\n",
      "None\n",
      "ohhi\n",
      "None\n",
      "ohgo away\n",
      "None\n"
     ]
    }
   ],
   "source": [
    "print(x('oh', 'hi'))\n",
    "print(y('oh'))\n",
    "print(y('oh', b='go away'))\n"
   ]
  },
  {
   "cell_type": "code",
   "execution_count": 20,
   "metadata": {},
   "outputs": [
    {
     "name": "stderr",
     "output_type": "stream",
     "text": [
      "<ipython-input-20-ded8af6430ea>:2: SyntaxWarning: assertion is always true, perhaps remove parentheses?\n",
      "  assert('c' in j, 'Oh no!')\n"
     ]
    }
   ],
   "source": [
    "j = ['a', 'b']\n",
    "assert('c' in j, 'Oh no!')"
   ]
  }
 ],
 "metadata": {
  "kernelspec": {
   "display_name": "Python 2",
   "language": "python",
   "name": "python2"
  },
  "language_info": {
   "codemirror_mode": {
    "name": "ipython",
    "version": 2
   },
   "file_extension": ".py",
   "mimetype": "text/x-python",
   "name": "python",
   "nbconvert_exporter": "python",
   "pygments_lexer": "ipython2",
   "version": "2.7.13"
  }
 },
 "nbformat": 4,
 "nbformat_minor": 2
}
